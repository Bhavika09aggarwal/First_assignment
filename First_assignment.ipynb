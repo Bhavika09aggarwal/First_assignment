{
 "cells": [
  {
   "cell_type": "code",
   "execution_count": null,
   "id": "ea0ad832-de28-4797-b3d4-63f637dcdc7c",
   "metadata": {},
   "outputs": [],
   "source": [
    "#Write a code to reverve a string\n",
    "\n",
    "a = \"firstassignment\" [::-1]\n",
    "print(a)"
   ]
  },
  {
   "cell_type": "code",
   "execution_count": null,
   "id": "fa12bcb8-323f-4279-ae9c-ef480abcd225",
   "metadata": {},
   "outputs": [],
   "source": [
    "#Write a code to count the number of vowels in string\n",
    "\n",
    "string = \"firstassignment\"\n",
    "vowels = \"aeiouAEIOU\"\n",
    " \n",
    "count = sum(string.count(vowel) for vowel in vowels)\n",
    "print(count)"
   ]
  },
  {
   "cell_type": "code",
   "execution_count": null,
   "id": "e75c39b2-37e6-43cc-b6e6-c843f16b8618",
   "metadata": {},
   "outputs": [],
   "source": [
    "# Write a code to check if a given string in the palindrome or not\n",
    "\n",
    "a = \"REFER\"\n",
    "if a == a[::-1]:\n",
    "    print (\"This is palindrome word\")\n",
    "else:\n",
    "    print (\"This is not a palindrome word\")"
   ]
  },
  {
   "cell_type": "code",
   "execution_count": null,
   "id": "cb90ef00-9c20-4e18-ae35-64a30b3fd947",
   "metadata": {},
   "outputs": [],
   "source": [
    "#Write a code to check if two given strings are anagrams of each other\n",
    "\n",
    "String1 = \"BAD\"\n",
    "String2 = \"DAB\"\n",
    "\n",
    "if(sorted(String1) == sorted(String2)):\n",
    "    print(\"anagrams\")\n",
    "else:\n",
    "    print(\"not anagrams\")"
   ]
  },
  {
   "cell_type": "code",
   "execution_count": 30,
   "id": "de58e8f1-a6e3-4ed9-8cc1-24996fcc7faf",
   "metadata": {},
   "outputs": [
    {
     "name": "stdout",
     "output_type": "stream",
     "text": [
      "B\n",
      "h\n",
      "a\n",
      "v\n",
      "i\n",
      "k\n",
      "a\n"
     ]
    }
   ],
   "source": [
    "# Write a code to find all occurrences of a given substring within another strings\n",
    "\n",
    "A = (\"Bhavika\")\n",
    "\n",
    "count = 0 \n",
    "for i in A:\n",
    "    print(i)\n",
    "\n"
   ]
  },
  {
   "cell_type": "code",
   "execution_count": 25,
   "id": "4ede561b-6834-4b91-ae9a-3e9ecf49c4f0",
   "metadata": {},
   "outputs": [],
   "source": [
    "# Write a code to perform basic string compression using the counts of repeated characters"
   ]
  },
  {
   "cell_type": "code",
   "execution_count": null,
   "id": "6a91cffa-2ed6-4915-8f83-1e119cc874ec",
   "metadata": {},
   "outputs": [],
   "source": [
    "#Write a code to determine if a string has all unique characters\n",
    "s = {\"apple\",\"orange\",\"mango\",\"peach\"}\n",
    "\n",
    "if len(set(s)) == len(s):\n",
    "    print (\"unique characters\")\n",
    "else:\n",
    "    print (\"not unique characters\")"
   ]
  },
  {
   "cell_type": "code",
   "execution_count": null,
   "id": "18be2cfb-5644-4f2b-a0ed-46090ee1c81e",
   "metadata": {},
   "outputs": [],
   "source": [
    "# Write a code to convert a given string to uppercase or lowercase\n",
    "\n",
    "String1 = \"Happy\" \n",
    "String1.lower()\n",
    "   "
   ]
  },
  {
   "cell_type": "code",
   "execution_count": null,
   "id": "e388373e-a503-40bc-8265-b9bde4ccc6e5",
   "metadata": {},
   "outputs": [],
   "source": [
    "#Write a code to count the number of words in a string\n",
    "\n",
    "String2 = \"Bhavika Aggarwal\"\n",
    "length = len(String2)\n",
    "print(length)"
   ]
  },
  {
   "cell_type": "code",
   "execution_count": null,
   "id": "a622eba0-ffc0-43b6-a2b7-12cd9459524e",
   "metadata": {},
   "outputs": [],
   "source": [
    "#Write a code to concatenate two strings without using the + operator\n",
    "\n",
    "words = [\"Hello\", \"world\"]\n",
    "result = \" \".join(words)\n",
    "print(result)"
   ]
  },
  {
   "cell_type": "code",
   "execution_count": null,
   "id": "d8375b4f-1daf-46fd-bd0b-4283f07f56b8",
   "metadata": {},
   "outputs": [],
   "source": [
    "#Write a code to remove all occurrences of a specific element from a lists\n",
    "\n",
    "list1 = [1,2,3,4,5,6,7]\n",
    "list1.remove(2)\n",
    "list1"
   ]
  },
  {
   "cell_type": "code",
   "execution_count": 71,
   "id": "de5e831a-c2b3-49c3-b455-2c2440778e39",
   "metadata": {},
   "outputs": [
    {
     "name": "stdout",
     "output_type": "stream",
     "text": [
      "6\n"
     ]
    }
   ],
   "source": [
    "#Implement a code to find the second largest number in a given list of integers\n",
    "\n",
    "A = [1,2,3,4,5,6,767]\n",
    "\n",
    "max_value = max(A)\n",
    "A.remove(max_value)\n",
    "\n",
    "result2 = max(A)\n",
    "print(result2)\n"
   ]
  },
  {
   "cell_type": "code",
   "execution_count": 6,
   "id": "41caff56-36e1-4ab7-b726-53ae59cfee75",
   "metadata": {},
   "outputs": [
    {
     "name": "stdout",
     "output_type": "stream",
     "text": [
      "Counts of multiple elements: {1: 1, 2: 1, 3: 2, 4: 2, 6: 2, 7: 3, 8: 2, 9: 1, 56: 1}\n"
     ]
    }
   ],
   "source": [
    "#Create a code to count the occurrences of each element in a list and return a dictionary with elements as a keys and their counts as values\n",
    "\n",
    "my_list = [1,2,3,4,56,6,7,8,8,9,3,4,6,7,7]\n",
    "\n",
    "counts_of_multiple = {elem: my_list.count(elem) for elem in set(my_list)}\n",
    "print(\"Counts of multiple elements:\", counts_of_multiple)\n"
   ]
  },
  {
   "cell_type": "code",
   "execution_count": null,
   "id": "be20641c-25ed-41d8-9eee-12185385b9b7",
   "metadata": {},
   "outputs": [],
   "source": [
    "#Write a code to reverse a list in-place without using in built-in reverse functions\n",
    "\n",
    "a = [1,2,3,4]\n",
    "i = 1\n",
    "j = 2\n",
    "\n",
    "a[i],a[j] = a[j],a[i]\n",
    "print(a)"
   ]
  },
  {
   "cell_type": "code",
   "execution_count": null,
   "id": "9fdf65d7-9684-457d-adf9-29b72477b39b",
   "metadata": {},
   "outputs": [],
   "source": [
    "#Implement a code to find and remove duplicates from a list while preserving the original order of elements\n",
    "\n",
    "Bhavika_list = [1, 2, 3, 2, 4, 1, 5]\n",
    "unique_list = []\n",
    "\n",
    "[unique_list.append(x) for x in Bhavika_list if x not in unique_list]\n",
    "\n",
    "print(unique_list)\n"
   ]
  },
  {
   "cell_type": "code",
   "execution_count": 7,
   "id": "beaf13ff-1a45-4a9f-8da7-84550af0be79",
   "metadata": {},
   "outputs": [
    {
     "name": "stdout",
     "output_type": "stream",
     "text": [
      "ascedning order\n"
     ]
    }
   ],
   "source": [
    "#Create a code to check if a given list is sorted (either in ascending or descending order) or not.\n",
    "\n",
    "n = [2,2,3,4,5,7,10]\n",
    "n1 = [2,2,3,4,5,7,10]\n",
    "n2 = [10,7,5,4,3,2,1]\n",
    "\n",
    "if n == n1:\n",
    "    print(\"ascedning order\")\n",
    "elif n == n2:\n",
    "    print(\"descending oreer\")\n",
    "else:\n",
    "    print(\"none\")\n"
   ]
  },
  {
   "cell_type": "code",
   "execution_count": null,
   "id": "d93442c8-fdcf-4b11-a142-3503db08b082",
   "metadata": {},
   "outputs": [],
   "source": [
    "#Write a code to merge two sorted lists into a single sorted list\n",
    "\n",
    "Bhavika_list = [1,10,2,4,\"apple\"]\n",
    "Aggarwal_list = [\"orange\",100,25]\n",
    "\n",
    "Bhavika_list.extend(Aggarwal_list)\n",
    "print(Bhavika_list)"
   ]
  },
  {
   "cell_type": "code",
   "execution_count": null,
   "id": "9156f7fb-e61b-4c7f-b4d0-f3661be88b6c",
   "metadata": {},
   "outputs": [],
   "source": [
    "# Implement a code to find the intersection of two given lists\n",
    "\n",
    "Bhavika_list = [1, 10, 2, 4, \"apple\",3]\n",
    "Aggarwal_list = [\"orange\", 100, 25,3]\n",
    "set1 = set(Bhavika_list)\n",
    "set2 = set(Aggarwal_list)\n",
    "intersect = set1 & set2\n",
    "print(intersect)"
   ]
  },
  {
   "cell_type": "code",
   "execution_count": null,
   "id": "098e26be-d9c0-4ce2-9096-d58a3ade1ed6",
   "metadata": {},
   "outputs": [],
   "source": [
    "# Create a code to find the union of two lists without duplicates\n",
    "\n",
    "A = [1,2,3,45,6,7]\n",
    "B = [5,6,7,8,9,10]\n",
    "\n",
    "Set1 = set(A)\n",
    "Set2 = set(B)\n",
    "\n",
    "Set3 = Set1|Set2\n",
    "print(Set3)\n"
   ]
  },
  {
   "cell_type": "code",
   "execution_count": 9,
   "id": "14dbecfd-842a-46c5-a1d2-297f7b50b340",
   "metadata": {},
   "outputs": [
    {
     "ename": "IndentationError",
     "evalue": "unexpected indent (1673411088.py, line 4)",
     "output_type": "error",
     "traceback": [
      "\u001b[0;36m  Cell \u001b[0;32mIn[9], line 4\u001b[0;36m\u001b[0m\n\u001b[0;31m    while lst:\u001b[0m\n\u001b[0m    ^\u001b[0m\n\u001b[0;31mIndentationError\u001b[0m\u001b[0;31m:\u001b[0m unexpected indent\n"
     ]
    }
   ],
   "source": [
    "#Write a code to shuffle a given list randomly without using any built-in shuffle functions\n"
   ]
  },
  {
   "cell_type": "code",
   "execution_count": 5,
   "id": "869351bf-bce0-4d93-ad53-4a879d0722b5",
   "metadata": {},
   "outputs": [
    {
     "name": "stdout",
     "output_type": "stream",
     "text": [
      "('apple',)\n"
     ]
    }
   ],
   "source": [
    "#Write a code that takes two tuples as input and returns a new tuple containing elements that are common to both input tuples\n",
    "\n",
    "a = (\"apple\",\"banana\")\n",
    "b = (\"apple\",\"mango\")\n",
    "\n",
    "set1 = set(a)\n",
    "set2 = set(b)\n",
    "\n",
    "set3 = set1 & set2\n",
    "\n",
    "result = tuple(set3)\n",
    "print(result)"
   ]
  },
  {
   "cell_type": "code",
   "execution_count": 6,
   "id": "c56ffc01-f536-46b5-8440-88c23eae48b4",
   "metadata": {},
   "outputs": [
    {
     "name": "stdout",
     "output_type": "stream",
     "text": [
      "{4}\n"
     ]
    }
   ],
   "source": [
    "#Create a code that prompts the user to enter two sets of integers separated by commas. Then, print the intersection of there two sets\n",
    "\n",
    "input1 = {1,2,3,4}\n",
    "input2 = {4,5,6,7}\n",
    "\n",
    "intersection = input1.intersection(input2)\n",
    "print(intersection)\n"
   ]
  },
  {
   "cell_type": "code",
   "execution_count": null,
   "id": "51995178-5c18-4462-bc8e-2d94d7651962",
   "metadata": {},
   "outputs": [],
   "source": [
    "#Write a code to concatenate two tuples. The function should take two tuples as input and return a newtuple containing elements from both input tuples\n",
    "\n",
    "\n",
    "A = (1,2,34,5,7)\n",
    "B = (1,24,68,90,89)\n",
    "\n",
    "C = (A+B)\n",
    "print(C)"
   ]
  },
  {
   "cell_type": "code",
   "execution_count": null,
   "id": "19c0ef72-7d18-4a45-a1ea-0f598462429d",
   "metadata": {},
   "outputs": [],
   "source": [
    "#Develop a code that prompts the user to input two sets of strings. Then print the elements that are present in the first set but not in the second sets\n",
    "\n",
    "Name1 = \"Bhavika\"\n",
    "Name2 = \"Aggarwal\"\n",
    "\n",
    "Set1 = set(Name1)\n",
    "Set2 = set(Name2)\n",
    "\n",
    "Set3 = Set1 - Set2\n",
    "\n",
    "print(Set3)"
   ]
  },
  {
   "cell_type": "code",
   "execution_count": null,
   "id": "8cd8652a-490e-4765-b320-36cd60ce9b92",
   "metadata": {},
   "outputs": [],
   "source": [
    "#Create a code that takes a tuple and two integers as input. The function should return as new tuple containing elements from the original tupla within tha specified range of indices\n"
   ]
  },
  {
   "cell_type": "code",
   "execution_count": null,
   "id": "9c290847-b4e6-47ca-bd08-bb5169eba70a",
   "metadata": {},
   "outputs": [],
   "source": [
    "# Write a code that prompts the user to input two sets of characters. Then print the union of these two sets\n",
    "\n",
    "input1 = input(\"What is your first name\")\n",
    "input2 = input(\"what is your last name\")\n",
    "\n",
    "set1 = set(input1.split())\n",
    "set2 = set(input2.split())\n",
    "\n",
    "Full_name = set1|set2\n",
    "print(Full_name)"
   ]
  },
  {
   "cell_type": "code",
   "execution_count": null,
   "id": "e460cd8b-bee5-4b58-9e9c-51dabd62a232",
   "metadata": {},
   "outputs": [],
   "source": [
    "#Develop a code that takes a tuple of integers as input. The function should return the maximum and minimum values from the tuple using tuple unpacking\n",
    "\n",
    "A = (1,100,5,8,10,45)\n",
    "\n",
    "B = max(A)\n",
    "print(B)"
   ]
  },
  {
   "cell_type": "code",
   "execution_count": 1,
   "id": "643bb6da-f73f-4616-b0fc-9826045746e1",
   "metadata": {},
   "outputs": [
    {
     "name": "stdout",
     "output_type": "stream",
     "text": [
      "{1, 2, 3, 4, 5, 6, 7}\n",
      "{1, 4}\n",
      "{2, 3}\n"
     ]
    }
   ],
   "source": [
    "#Create a code that defines two sets of integers. Then print the union intersection and difference of these two sets\n",
    "\n",
    "A = {1,2,3,4}\n",
    "B = {4,5,6,1,7}\n",
    "\n",
    "# Union \n",
    "\n",
    "Union = A|B\n",
    "print(Union)\n",
    "\n",
    "#intersecton \n",
    "\n",
    "intersection = A.intersection(B)\n",
    "print(intersection)\n",
    "\n",
    "#difference \n",
    "\n",
    "difference = A-B\n",
    "print(difference)"
   ]
  },
  {
   "cell_type": "code",
   "execution_count": 20,
   "id": "48708c17-9322-4cf9-8b50-e800ea20e47e",
   "metadata": {},
   "outputs": [
    {
     "name": "stdout",
     "output_type": "stream",
     "text": [
      "Count of occurrences of 8 in tuple: 3\n"
     ]
    }
   ],
   "source": [
    "#Write e code that takes a tuple and in element as input. The function should return the count of occurrences of the given element in the tuple\n",
    "\n",
    "my_tuple = (1, 2, 3, 4, 5, 6, 7, 8, 8, 8, 9)\n",
    "element_to_count = 8\n",
    "\n",
    "count_occurrences = my_tuple.count(element_to_count)\n",
    "print(\"Count of occurrences of\", element_to_count, \"in tuple:\", count_occurrences)\n",
    "\n"
   ]
  },
  {
   "cell_type": "code",
   "execution_count": 19,
   "id": "8f39fa4a-8ac8-4d56-b9a2-0f8c9de672bd",
   "metadata": {},
   "outputs": [
    {
     "name": "stdout",
     "output_type": "stream",
     "text": [
      "{'orange', 'bhavika'}\n"
     ]
    }
   ],
   "source": [
    "# Develop a code that prompts the user to input two sets of strings. Then print the symmetric difference of these two sets\n",
    "\n",
    "A = {\"bhavika\",\"Aggarwal\"}\n",
    "B = {\"Aggarwal\",\"orange\"}\n",
    "\n",
    "Result = A^B\n",
    "print(Result)"
   ]
  },
  {
   "cell_type": "code",
   "execution_count": 14,
   "id": "dc62293b-c11f-4e80-a97e-4845162ee9ac",
   "metadata": {},
   "outputs": [
    {
     "ename": "SyntaxError",
     "evalue": "invalid syntax (1854879321.py, line 7)",
     "output_type": "error",
     "traceback": [
      "\u001b[0;36m  Cell \u001b[0;32mIn[14], line 7\u001b[0;36m\u001b[0m\n\u001b[0;31m    elif\u001b[0m\n\u001b[0m        ^\u001b[0m\n\u001b[0;31mSyntaxError\u001b[0m\u001b[0;31m:\u001b[0m invalid syntax\n"
     ]
    }
   ],
   "source": [
    "#Write a code that takes a list of words as input and returns a dictionary where the keys are union words and the values are the frequencies of those words in the input lists\n",
    "\n",
    "A = input(\"Enter rainbow colors \")\n",
    "\n",
    "if A == {\"colors1\":orange}:\n",
    "    print(\"correct\")\n",
    "elif\n",
    "    A == {\"colors2\":white}:\n",
    "    print(\"okay\")\n",
    "else:\n",
    "    print(wrong)\n"
   ]
  },
  {
   "cell_type": "code",
   "execution_count": 37,
   "id": "4bd12984-35b8-4315-ada0-55dee798c6ff",
   "metadata": {},
   "outputs": [
    {
     "name": "stdout",
     "output_type": "stream",
     "text": [
      "{'name': 'Bhavika', 'surname': 'Aggarwal'}\n"
     ]
    }
   ],
   "source": [
    "#Write a code that takes two dictionaries as input and merges them into a single diction+ry. If there are common keys the values should be added together\n",
    "Dic1 = {\"name\": \"Bhavika\"}\n",
    "Dic2 = {\"surname\": \"Aggarwal\"}\n",
    "\n",
    "Dic3 = {**Dic1, **Dic2}\n",
    "\n",
    "print(Dic3)\n"
   ]
  },
  {
   "cell_type": "code",
   "execution_count": 64,
   "id": "bcec4fac-478a-4e92-8489-62c38c9579c8",
   "metadata": {},
   "outputs": [
    {
     "name": "stdout",
     "output_type": "stream",
     "text": [
      "1\n"
     ]
    }
   ],
   "source": [
    "#Write a code to access a value in a nested dictionary. The function should take the dictionary and a list of keys as input and return the corresponding value. If any of the keys do not exist in the dictionary ,the function should return None\n",
    "\n",
    "A = {\"num1\":1,\"num2\":2,\"num3\":3}\n",
    "\n",
    "define_A= A.get(\"num1\",{})\n",
    "define_A1= A.get(\"num2\",{})\n",
    "define_A2=A.get(\"num3\",{})\n",
    "\n",
    "\n"
   ]
  },
  {
   "cell_type": "code",
   "execution_count": 56,
   "id": "6ee52399-6ae4-4d89-98b7-c9ad8e32b503",
   "metadata": {},
   "outputs": [
    {
     "name": "stdout",
     "output_type": "stream",
     "text": [
      "['age', 'city', 'name', 'score']\n"
     ]
    }
   ],
   "source": [
    "#Write e code that takes a dictionary as input and returns a sorted version of it based on the values. You can choose whether to sort in ascending or descending order\n",
    "\n",
    "Dic1 = {\"name\": \"Alice\", \"age\": 30, \"score\": 85, \"city\": \"Wonderland\"}\n",
    "\n",
    "sorted_dict = sorted(Dic1)\n",
    "print(sorted_dict)"
   ]
  },
  {
   "cell_type": "code",
   "execution_count": 52,
   "id": "33841ea4-eb2e-49e4-83cd-6e4da5b52ab3",
   "metadata": {},
   "outputs": [
    {
     "name": "stdout",
     "output_type": "stream",
     "text": [
      "{1: ['a'], 2: ['b', 'd'], 3: ['c']}\n"
     ]
    }
   ],
   "source": [
    "#Write a code that inverts a dictionary swapping keys and values. Ensure that the inverted dictionary correctly handles cases where multiple keys have the same value by storing the keys as a list in the inverted dictionary \n",
    "\n",
    "dict1 = {\"a\": 1, \"b\": 2, \"c\": 3, \"d\": 2}\n",
    "dict2 = {}\n",
    " \n",
    "for k, v in dict1.items():\n",
    "    dict2[v] = dict2.get(v, []) + [k]\n",
    " \n",
    "print(dict2)\n",
    "\n",
    "\n"
   ]
  },
  {
   "cell_type": "code",
   "execution_count": null,
   "id": "5df5f868-87d1-4cb4-bc16-ec775d17f046",
   "metadata": {},
   "outputs": [],
   "source": []
  }
 ],
 "metadata": {
  "kernelspec": {
   "display_name": "Python 3 (ipykernel)",
   "language": "python",
   "name": "python3"
  },
  "language_info": {
   "codemirror_mode": {
    "name": "ipython",
    "version": 3
   },
   "file_extension": ".py",
   "mimetype": "text/x-python",
   "name": "python",
   "nbconvert_exporter": "python",
   "pygments_lexer": "ipython3",
   "version": "3.10.8"
  }
 },
 "nbformat": 4,
 "nbformat_minor": 5
}
